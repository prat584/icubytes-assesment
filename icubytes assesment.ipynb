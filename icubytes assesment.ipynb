{
 "cells": [
  {
   "cell_type": "markdown",
   "metadata": {},
   "source": [
    "### I did't recieved any sample dataset or  design documents mention in assesment description file. I am writing code assuming the current notebook to be operated in \"design_document\" directory inside a folder named say \"Task\" and the dataset provided is in the same directory in .txt format named say \"samplefile.txt\".\n",
    "\n",
    "Kindly Judge Accordingly."
   ]
  },
  {
   "cell_type": "code",
   "execution_count": null,
   "metadata": {},
   "outputs": [],
   "source": [
    "# importing pandas library\n",
    "import pandas as pd\n",
    "  \n",
    "# reading the given .txt file \n",
    "# and creating dataframe\n",
    "filepath = \"//dataset/samplefile.txt\"\n",
    "df = pd.read_csv(filepath,\n",
    "                      delimiter = '|', header=0, names = [Drop, Name, Cust_I, Open_Dt, Consul_Dt, VAC_ID, DR_Name, State, County, DOB, FLAG], index_col=False, na_filter = True)\n",
    "df.drop([0], axis=1)"
   ]
  },
  {
   "cell_type": "code",
   "execution_count": null,
   "metadata": {},
   "outputs": [],
   "source": [
    "names = df['County'].unique().tolist()   #find unique county names for further grouping\n",
    "\n",
    "import country_converter as coco    #library for converting country code to country name\n",
    "cc = coco.CountryConverter()\n",
    "table_name = []\n",
    "for name in names:\n",
    "    if name == NAN:\n",
    "        table_name.append(\"Table_\"+\"NAN\")\n",
    "    else:\n",
    "        standard_names = cc.convert(names = name, to = 'name_short')\n",
    "        table_name.append(\"Table_\"+ standard_names)\n",
    "        \n",
    "\n"
   ]
  },
  {
   "cell_type": "code",
   "execution_count": null,
   "metadata": {},
   "outputs": [],
   "source": [
    "# this will create custom group by as demanded in assesment problem.\n",
    "\n",
    "for i,name in enumerate(table_name):\n",
    "    name = df[df['County']==names[i]]\n",
    "    path =\"//dataset/\"+ name[i]\n",
    "    df.to_csv(path)\n",
    "\n",
    "\n"
   ]
  },
  {
   "cell_type": "code",
   "execution_count": null,
   "metadata": {},
   "outputs": [],
   "source": []
  },
  {
   "cell_type": "code",
   "execution_count": null,
   "metadata": {},
   "outputs": [],
   "source": []
  }
 ],
 "metadata": {
  "kernelspec": {
   "display_name": "Python 3",
   "language": "python",
   "name": "python3"
  },
  "language_info": {
   "codemirror_mode": {
    "name": "ipython",
    "version": 3
   },
   "file_extension": ".py",
   "mimetype": "text/x-python",
   "name": "python",
   "nbconvert_exporter": "python",
   "pygments_lexer": "ipython3",
   "version": "3.6.5"
  }
 },
 "nbformat": 4,
 "nbformat_minor": 4
}
